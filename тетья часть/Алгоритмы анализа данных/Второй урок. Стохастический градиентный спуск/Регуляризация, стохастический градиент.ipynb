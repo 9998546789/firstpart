{
 "cells": [
  {
   "cell_type": "code",
   "execution_count": 1,
   "metadata": {},
   "outputs": [],
   "source": [
    "import matplotlib\n",
    "import numpy as np\n",
    "import matplotlib.pyplot as plt\n",
    "from linear_regression import linear_regression\n",
    "from sklearn.linear_model import LinearRegression as sklearn_LR\n",
    "%matplotlib inline"
   ]
  },
  {
   "cell_type": "markdown",
   "metadata": {},
   "source": [
    "## Переобученность модели"
   ]
  },
  {
   "cell_type": "code",
   "execution_count": 2,
   "metadata": {},
   "outputs": [
    {
     "data": {
      "text/plain": [
       "[<matplotlib.lines.Line2D at 0x246b85f50d0>]"
      ]
     },
     "execution_count": 2,
     "metadata": {},
     "output_type": "execute_result"
    },
    {
     "data": {
      "image/png": "[encoded data removed]",
      "text/plain": [
       "<Figure size 432x288 with 1 Axes>"
      ]
     },
     "metadata": {
      "needs_background": "light"
     },
     "output_type": "display_data"
    }
   ],
   "source": [
    "def f(x):\n",
    "    return 0.6 - 13.2 * x - 5.3 * x ** 2 - 4.17 * x ** 3\n",
    "dots = np.linspace(-10, 10, 100)\n",
    "plt.xlabel('x')\n",
    "plt.ylabel('f(x)')\n",
    "plt.ylim(-5000, 5000)\n",
    "plt.xlim(-10,10)\n",
    "\n",
    "plt.plot(dots, f(dots), color='g')"
   ]
  },
  {
   "cell_type": "code",
   "execution_count": 25,
   "metadata": {},
   "outputs": [
    {
     "name": "stdout",
     "output_type": "stream",
     "text": [
      "[-5.53417842  0.46326683  1.01402913 -9.087961   -2.78542329 -5.53838117\n",
      "  3.77452324 -6.7253715  -8.59350266  8.8202172 ]\n"
     ]
    }
   ],
   "source": [
    "def f(x):\n",
    "    return 0.6 - 13.2 * x - 5.3 * x ** 2 - 4.17 * x ** 3\n",
    "np.random.seed(16)\n",
    "x_data = np.random.uniform(-10, 10, 10)\n",
    "print(x_data)\n",
    "f_data = [f(i) for i in x_data] + np.random.uniform(-1000, 1000, 10)"
   ]
  },
  {
   "cell_type": "code",
   "execution_count": 26,
   "metadata": {},
   "outputs": [
    {
     "name": "stdout",
     "output_type": "stream",
     "text": [
      "[-10.          -9.7979798   -9.5959596   -9.39393939  -9.19191919\n",
      "  -8.98989899  -8.78787879  -8.58585859  -8.38383838  -8.18181818\n",
      "  -7.97979798  -7.77777778  -7.57575758  -7.37373737  -7.17171717\n",
      "  -6.96969697  -6.76767677  -6.56565657  -6.36363636  -6.16161616\n",
      "  -5.95959596  -5.75757576  -5.55555556  -5.35353535  -5.15151515\n",
      "  -4.94949495  -4.74747475  -4.54545455  -4.34343434  -4.14141414\n",
      "  -3.93939394  -3.73737374  -3.53535354  -3.33333333  -3.13131313\n",
      "  -2.92929293  -2.72727273  -2.52525253  -2.32323232  -2.12121212\n",
      "  -1.91919192  -1.71717172  -1.51515152  -1.31313131  -1.11111111\n",
      "  -0.90909091  -0.70707071  -0.50505051  -0.3030303   -0.1010101\n",
      "   0.1010101    0.3030303    0.50505051   0.70707071   0.90909091\n",
      "   1.11111111   1.31313131   1.51515152   1.71717172   1.91919192\n",
      "   2.12121212   2.32323232   2.52525253   2.72727273   2.92929293\n",
      "   3.13131313   3.33333333   3.53535354   3.73737374   3.93939394\n",
      "   4.14141414   4.34343434   4.54545455   4.74747475   4.94949495\n",
      "   5.15151515   5.35353535   5.55555556   5.75757576   5.95959596\n",
      "   6.16161616   6.36363636   6.56565657   6.76767677   6.96969697\n",
      "   7.17171717   7.37373737   7.57575758   7.77777778   7.97979798\n",
      "   8.18181818   8.38383838   8.58585859   8.78787879   8.98989899\n",
      "   9.19191919   9.39393939   9.5959596    9.7979798   10.        ]\n"
     ]
    },
    {
     "data": {
      "text/plain": [
       "<matplotlib.collections.PathCollection at 0x246ba067880>"
      ]
     },
     "execution_count": 26,
     "metadata": {},
     "output_type": "execute_result"
    },
    {
     "data": {
      "image/png": "[encoded data removed]",
      "text/plain": [
       "<Figure size 432x288 with 1 Axes>"
      ]
     },
     "metadata": {
      "needs_background": "light"
     },
     "output_type": "display_data"
    }
   ],
   "source": [
    "plt.xlabel('x')\n",
    "plt.ylabel('f(x)')\n",
    "plt.ylim(-5000, 5000)\n",
    "plt.xlim(-10,10)\n",
    "\n",
    "plt.plot(dots, f(dots), color='g')\n",
    "plt.scatter(x_data, f_data)"
   ]
  },
  {
   "cell_type": "code",
   "execution_count": 5,
   "metadata": {},
   "outputs": [
    {
     "data": {
      "text/plain": [
       "array([-5.53417842,  0.46326683,  1.01402913, -9.087961  , -2.78542329,\n",
       "       -5.53838117,  3.77452324, -6.7253715 , -8.59350266,  8.8202172 ])"
      ]
     },
     "execution_count": 5,
     "metadata": {},
     "output_type": "execute_result"
    }
   ],
   "source": [
    "x_data"
   ]
  },
  {
   "cell_type": "code",
   "execution_count": 6,
   "metadata": {},
   "outputs": [
    {
     "data": {
      "text/plain": [
       "array([  745.4884675 ,  -851.08250932,   422.69810766,  2129.66866668,\n",
       "        -413.07267878,   206.52054624,    44.24369404,  1046.66448866,\n",
       "        1799.10906399, -3495.863552  ])"
      ]
     },
     "execution_count": 6,
     "metadata": {},
     "output_type": "execute_result"
    }
   ],
   "source": [
    "f_data"
   ]
  },
  {
   "cell_type": "code",
   "execution_count": 7,
   "metadata": {},
   "outputs": [],
   "source": [
    "class polynomial_regression(linear_regression):\n",
    "    def __init__(self, max_power, *args, **kwargs):\n",
    "        self.max_power=max_power\n",
    "        super().__init__(*args, **kwargs)\n",
    "    @staticmethod\n",
    "    def generate_features(x, max_power):\n",
    "        x=x[:, np.newaxis]\n",
    "        return np.concatenate([x**i for i in range(1, max_power+1)], axis=1)\n",
    "    def fit(self, x, y):\n",
    "        super().fit(self.generate_features(x, self.max_power), y)\n",
    "    def predict(self, x):\n",
    "        return super().predict(self.generate_features(x, self.max_power)).flatten()\n",
    "    def test(self, x, y):\n",
    "        return super().test(self.generate_features(x, self.max_power), y)\n",
    "    \n",
    "class polynomial_regression_sklearn(sklearn_LR):\n",
    "    def __init__(self, max_power, *args, **kwargs):\n",
    "        self.max_power=max_power\n",
    "        super().__init__(*args, **kwargs)\n",
    "    generate_features=staticmethod(polynomial_regression.generate_features)\n",
    "    def fit(self, x, y):\n",
    "        super().fit(self.generate_features(x, self.max_power), y)\n",
    "    def predict(self, x):\n",
    "        return super().predict(self.generate_features(x, self.max_power))\n",
    "    def test(self, x, y):\n",
    "        return np.sum((self.predict(x) - y)**2) / y.shape[0]"
   ]
  },
  {
   "cell_type": "code",
   "execution_count": 8,
   "metadata": {},
   "outputs": [
    {
     "data": {
      "text/plain": [
       "array([0, 1, 2, 3])"
      ]
     },
     "execution_count": 8,
     "metadata": {},
     "output_type": "execute_result"
    }
   ],
   "source": [
    "np.arange(4)"
   ]
  },
  {
   "cell_type": "code",
   "execution_count": 31,
   "metadata": {},
   "outputs": [
    {
     "data": {
      "text/plain": [
       "array([[-5.53417842e+00,  3.06271308e+01, -1.69496006e+02],\n",
       "       [ 4.63266828e-01,  2.14616154e-01,  9.94245449e-02],\n",
       "       [ 1.01402913e+00,  1.02825508e+00,  1.04268061e+00],\n",
       "       [-9.08796100e+00,  8.25910351e+01, -7.50584106e+02],\n",
       "       [-2.78542329e+00,  7.75858292e+00, -2.16109376e+01],\n",
       "       [-5.53838117e+00,  3.06736659e+01, -1.69882454e+02],\n",
       "       [ 3.77452324e+00,  1.42470257e+01,  5.37757294e+01],\n",
       "       [-6.72537150e+00,  4.52306218e+01, -3.04192735e+02],\n",
       "       [-8.59350266e+00,  7.38482880e+01, -6.34615460e+02],\n",
       "       [ 8.82021720e+00,  7.77962315e+01,  6.86179660e+02]])"
      ]
     },
     "execution_count": 31,
     "metadata": {},
     "output_type": "execute_result"
    }
   ],
   "source": [
    "#polynomial_regression.generate_features(np.arange(4), 3)\n",
    "polynomial_regression.generate_features(x_data, 3)"
   ]
  },
  {
   "cell_type": "code",
   "execution_count": 10,
   "metadata": {},
   "outputs": [
    {
     "data": {
      "text/plain": [
       "array([  307.77840643,   -48.2985274 ,   -47.13060843,  2299.31085444,\n",
       "         -83.91820643,   308.9693798 ,  -318.18124167,   741.44413131,\n",
       "        1884.45967312, -3410.05956649])"
      ]
     },
     "execution_count": 10,
     "metadata": {},
     "output_type": "execute_result"
    }
   ],
   "source": [
    "#Построение полиномиальной регресси при помощи реализации линейной регрессии из Sklearn\n",
    "mod1=sklearn_LR()\n",
    "mod1.fit(polynomial_regression.generate_features(x_data, 3), f_data)\n",
    "mod1.predict(polynomial_regression.generate_features(x_data, 3))"
   ]
  },
  {
   "cell_type": "code",
   "execution_count": 11,
   "metadata": {},
   "outputs": [
    {
     "data": {
      "text/plain": [
       "array([  307.77840643,   -48.2985274 ,   -47.13060843,  2299.31085444,\n",
       "         -83.91820643,   308.9693798 ,  -318.18124167,   741.44413131,\n",
       "        1884.45967312, -3410.05956649])"
      ]
     },
     "execution_count": 11,
     "metadata": {},
     "output_type": "execute_result"
    }
   ],
   "source": [
    "#Построение полиномиальной регресси при ощи созданного нами класса\n",
    "mod2=polynomial_regression_sklearn(3)\n",
    "mod2.fit(x_data, f_data)\n",
    "mod2.predict(x_data)"
   ]
  },
  {
   "cell_type": "code",
   "execution_count": 12,
   "metadata": {},
   "outputs": [
    {
     "name": "stdout",
     "output_type": "stream",
     "text": [
      "Коэффициенты при факторах(наша модель): [[-244.1943038    -8.45469064]]\n",
      "Коэффициенты при факторах(sklearn): [-245.99569456   -5.82400107]\n",
      "Нулевые коэффициенты(интерцепты): -50.521599022696385 -219.6919440521562\n"
     ]
    }
   ],
   "source": [
    "our_mod=polynomial_regression(2)\n",
    "our_mod.fit(x_data, f_data)\n",
    "sk_mod=polynomial_regression_sklearn(2)\n",
    "sk_mod.fit(x_data, f_data)\n",
    "print('Коэффициенты при факторах(наша модель):', our_mod.w)\n",
    "print('Коэффициенты при факторах(sklearn):', sk_mod.coef_)\n",
    "print('Нулевые коэффициенты(интерцепты):',our_mod.w0, sk_mod.intercept_)"
   ]
  },
  {
   "cell_type": "code",
   "execution_count": 13,
   "metadata": {},
   "outputs": [
    {
     "data": {
      "text/plain": [
       "array([ 1041.950331  ,  -165.46323275,  -306.83531545,  1470.42505857,\n",
       "         564.06648443,  1042.58317778, -1092.69286742,  1209.36489745,\n",
       "        1423.59837175, -2862.11146925])"
      ]
     },
     "execution_count": 13,
     "metadata": {},
     "output_type": "execute_result"
    }
   ],
   "source": [
    "our_mod.predict(x_data)"
   ]
  },
  {
   "cell_type": "code",
   "execution_count": 14,
   "metadata": {},
   "outputs": [
    {
     "data": {
      "text/plain": [
       "array([  963.31967725,  -334.90351389,  -475.12730327,  1534.8970571 ,\n",
       "         420.32419835,   964.08251447, -1231.1831019 ,  1171.29729954,\n",
       "        1464.18020411, -2842.51273709])"
      ]
     },
     "execution_count": 14,
     "metadata": {},
     "output_type": "execute_result"
    }
   ],
   "source": [
    "sk_mod.predict(x_data)"
   ]
  },
  {
   "cell_type": "code",
   "execution_count": 23,
   "metadata": {},
   "outputs": [
    {
     "name": "stdout",
     "output_type": "stream",
     "text": [
      "[ 2.01738997e+03  1.97153954e+03  1.92568912e+03  1.87983869e+03\n",
      "  1.83398827e+03  1.78813784e+03  1.74228741e+03  1.69643699e+03\n",
      "  1.65058656e+03  1.60473614e+03  1.55888571e+03  1.51303528e+03\n",
      "  1.46718486e+03  1.42133443e+03  1.37548400e+03  1.32963358e+03\n",
      "  1.28378315e+03  1.23793273e+03  1.19208230e+03  1.14623187e+03\n",
      "  1.10038145e+03  1.05453102e+03  1.00868060e+03  9.62830170e+02\n",
      "  9.16979744e+02  8.71129318e+02  8.25278892e+02  7.79428466e+02\n",
      "  7.33578040e+02  6.87727614e+02  6.41877188e+02  5.96026762e+02\n",
      "  5.50176336e+02  5.04325910e+02  4.58475484e+02  4.12625058e+02\n",
      "  3.66774632e+02  3.20924206e+02  2.75073779e+02  2.29223353e+02\n",
      "  1.83372927e+02  1.37522501e+02  9.16720752e+01  4.58216492e+01\n",
      " -2.87768735e-02 -4.58792029e+01 -9.17296290e+01 -1.37580055e+02\n",
      " -1.83430481e+02 -2.29280907e+02 -2.75131333e+02 -3.20981759e+02\n",
      " -3.66832185e+02 -4.12682611e+02 -4.58533037e+02 -5.04383463e+02\n",
      " -5.50233890e+02 -5.96084316e+02 -6.41934742e+02 -6.87785168e+02\n",
      " -7.33635594e+02 -7.79486020e+02 -8.25336446e+02 -8.71186872e+02\n",
      " -9.17037298e+02 -9.62887724e+02 -1.00873815e+03 -1.05458858e+03\n",
      " -1.10043900e+03 -1.14628943e+03 -1.19213985e+03 -1.23799028e+03\n",
      " -1.28384071e+03 -1.32969113e+03 -1.37554156e+03 -1.42139198e+03\n",
      " -1.46724241e+03 -1.51309284e+03 -1.55894326e+03 -1.60479369e+03\n",
      " -1.65064411e+03 -1.69649454e+03 -1.74234497e+03 -1.78819539e+03\n",
      " -1.83404582e+03 -1.87989625e+03 -1.92574667e+03 -1.97159710e+03\n",
      " -2.01744752e+03 -2.06329795e+03 -2.10914838e+03 -2.15499880e+03\n",
      " -2.20084923e+03 -2.24669965e+03 -2.29255008e+03 -2.33840051e+03\n",
      " -2.38425093e+03 -2.43010136e+03 -2.47595178e+03 -2.52180221e+03]\n"
     ]
    },
    {
     "data": {
      "image/png": "[encoded data removed]",
      "text/plain": [
       "<Figure size 432x288 with 1 Axes>"
      ]
     },
     "metadata": {
      "needs_background": "light"
     },
     "output_type": "display_data"
    }
   ],
   "source": [
    "#Актуальные данные\n",
    "plt.xlabel('x')\n",
    "plt.ylabel('f(x)')\n",
    "plt.ylim(-5000, 5000)\n",
    "plt.xlim(-10,10)\n",
    "plt.plot(dots, f(dots), color='g')\n",
    "plt.scatter(x_data, f_data)\n",
    "\n",
    "#Наша модель\n",
    "model1 = polynomial_regression(1)\n",
    "model1.fit(x_data, f_data)\n",
    "print(model1.predict(dots))\n",
    "#plt.plot(dots, model1.predict(dots), color='r')\n",
    "\n",
    "#Sklearn\n",
    "model2 = polynomial_regression_sklearn(1)\n",
    "model2.fit(x_data, f_data)\n",
    "#plt.plot(dots, model2.predict(dots), 'm--', linewidth=2)"
   ]
  },
  {
   "cell_type": "code",
   "execution_count": 20,
   "metadata": {},
   "outputs": [
    {
     "name": "stdout",
     "output_type": "stream",
     "text": [
      "[ 1545.95237522  1530.43550464  1514.22852566  1497.33143826\n",
      "  1479.74424246  1461.46693825  1442.49952563  1422.84200461\n",
      "  1402.49437517  1381.45663733  1359.72879107  1337.31083641\n",
      "  1314.20277334  1290.40460187  1265.91632198  1240.73793369\n",
      "  1214.86943699  1188.31083187  1161.06211836  1133.12329643\n",
      "  1104.49436609  1075.17532735  1045.1661802   1014.46692463\n",
      "   983.07756067   950.99808829   918.2285075    884.76881831\n",
      "   850.61902071   815.77911469   780.24910027   744.02897745\n",
      "   707.11874621   669.51840657   631.22795851   592.24740205\n",
      "   552.57673718   512.21596391   471.16508222   429.42409212\n",
      "   386.99299362   343.87178671   300.06047139   255.55904766\n",
      "   210.36751553   164.48587498   117.91412603    70.65226867\n",
      "    22.7003029    -25.94177128   -75.27395387  -125.29624486\n",
      "  -176.00864427  -227.41115208  -279.5037683   -332.28649292\n",
      "  -385.75932596  -439.92226741  -494.77531726  -550.31847552\n",
      "  -606.55174219  -663.47511727  -721.08860076  -779.39219265\n",
      "  -838.38589296  -898.06970167  -958.44361879 -1019.50764432\n",
      " -1081.26177825 -1143.7060206  -1206.84037135 -1270.66483051\n",
      " -1335.17939808 -1400.38407406 -1466.27885845 -1532.86375124\n",
      " -1600.13875245 -1668.10386206 -1736.75908008 -1806.10440651\n",
      " -1876.13984135 -1946.86538459 -2018.28103625 -2090.38679631\n",
      " -2163.18266478 -2236.66864166 -2310.84472695 -2385.71092064\n",
      " -2461.26722275 -2537.51363326 -2614.45015218 -2692.07677951\n",
      " -2770.39351525 -2849.40035939 -2929.09731195 -3009.48437291\n",
      " -3090.56154228 -3172.32882006 -3254.78620625 -3337.93370084]\n"
     ]
    },
    {
     "data": {
      "text/plain": [
       "[<matplotlib.lines.Line2D at 0x246b9f47790>]"
      ]
     },
     "execution_count": 20,
     "metadata": {},
     "output_type": "execute_result"
    },
    {
     "data": {
      "image/png": "[encoded data removed]",
      "text/plain": [
       "<Figure size 432x288 with 1 Axes>"
      ]
     },
     "metadata": {
      "needs_background": "light"
     },
     "output_type": "display_data"
    }
   ],
   "source": [
    "#Актуальные данные\n",
    "plt.xlabel('x')\n",
    "plt.ylabel('f(x)')\n",
    "plt.ylim(-5000, 5000)\n",
    "plt.xlim(-10,10)\n",
    "plt.plot(dots, f(dots), color='g')\n",
    "plt.scatter(x_data, f_data)\n",
    "\n",
    "#Наша модель\n",
    "model1 = polynomial_regression(2)\n",
    "model1.fit(x_data, f_data)\n",
    "print(model1.predict(dots))\n",
    "plt.plot(dots, model1.predict(dots), color='r')\n",
    "\n",
    "#Sklearn\n",
    "model2 = polynomial_regression_sklearn(2)\n",
    "model2.fit(x_data, f_data)\n",
    "plt.plot(dots, model2.predict(dots), 'm--', linewidth=2)"
   ]
  },
  {
   "cell_type": "code",
   "execution_count": 32,
   "metadata": {},
   "outputs": [
    {
     "name": "stdout",
     "output_type": "stream",
     "text": [
      "None\n"
     ]
    },
    {
     "data": {
      "text/plain": [
       "[<matplotlib.lines.Line2D at 0x246ba1134c0>]"
      ]
     },
     "execution_count": 32,
     "metadata": {},
     "output_type": "execute_result"
    },
    {
     "data": {
      "image/png": "[encoded data removed]",
      "text/plain": [
       "<Figure size 432x288 with 1 Axes>"
      ]
     },
     "metadata": {
      "needs_background": "light"
     },
     "output_type": "display_data"
    }
   ],
   "source": [
    "#Актуальные данные\n",
    "plt.xlabel('x')\n",
    "plt.ylabel('f(x)')\n",
    "plt.ylim(-5000, 5000)\n",
    "plt.xlim(-10,10)\n",
    "plt.plot(dots, f(dots), color='g')\n",
    "plt.scatter(x_data, f_data)\n",
    "\n",
    "#Наша модель\n",
    "model1 = polynomial_regression(3)\n",
    "model1.fit(x_data, f_data)\n",
    "print(model1.fit(x_data, f_data))\n",
    "plt.plot(dots, model1.predict(dots), color='r')\n",
    "\n",
    "#Sklearn\n",
    "model2 = polynomial_regression_sklearn(3)\n",
    "model2.fit(x_data, f_data)\n",
    "plt.plot(dots, model2.predict(dots), 'm--', linewidth=2)"
   ]
  },
  {
   "cell_type": "code",
   "execution_count": 21,
   "metadata": {},
   "outputs": [
    {
     "data": {
      "text/plain": [
       "[<matplotlib.lines.Line2D at 0x7f90ca590160>]"
      ]
     },
     "execution_count": 21,
     "metadata": {},
     "output_type": "execute_result"
    },
    {
     "data": {
      "image/png": "[encoded data removed]",
      "text/plain": [
       "<Figure size 432x288 with 1 Axes>"
      ]
     },
     "metadata": {
      "needs_background": "light"
     },
     "output_type": "display_data"
    }
   ],
   "source": [
    "#Актуальные данные\n",
    "plt.xlabel('x')\n",
    "plt.ylabel('f(x)')\n",
    "plt.ylim(-5000, 5000)\n",
    "plt.xlim(-10,10)\n",
    "plt.plot(dots, f(dots), color='g')\n",
    "plt.scatter(x_data, f_data)\n",
    "\n",
    "#Наша модель\n",
    "model1 = polynomial_regression(4, 0.01)\n",
    "model1.fit(x_data, f_data)\n",
    "plt.plot(dots, model1.predict(dots), color='r')\n",
    "\n",
    "#Sklearn\n",
    "model2 = polynomial_regression_sklearn(4)\n",
    "model2.fit(x_data, f_data)\n",
    "plt.plot(dots, model2.predict(dots), 'm--', linewidth=2)"
   ]
  },
  {
   "cell_type": "code",
   "execution_count": 22,
   "metadata": {},
   "outputs": [
    {
     "data": {
      "text/plain": [
       "[<matplotlib.lines.Line2D at 0x7f90ca4eba60>]"
      ]
     },
     "execution_count": 22,
     "metadata": {},
     "output_type": "execute_result"
    },
    {
     "data": {
      "image/png": "[encoded data removed]",
      "text/plain": [
       "<Figure size 432x288 with 1 Axes>"
      ]
     },
     "metadata": {
      "needs_background": "light"
     },
     "output_type": "display_data"
    }
   ],
   "source": [
    "#Актуальные данные\n",
    "plt.xlabel('x')\n",
    "plt.ylabel('f(x)')\n",
    "plt.ylim(-5000, 5000)\n",
    "plt.xlim(-10,10)\n",
    "plt.plot(dots, f(dots), color='g')\n",
    "plt.scatter(x_data, f_data)\n",
    "\n",
    "#Наша модель\n",
    "model1 = polynomial_regression(6, 0.0005, max_iter = 1e5)\n",
    "model1.fit(x_data, f_data)\n",
    "plt.plot(dots, model1.predict(dots), color='r')\n",
    "\n",
    "#Sklearn\n",
    "model2 = polynomial_regression_sklearn(6)\n",
    "model2.fit(x_data, f_data)\n",
    "plt.plot(dots, model2.predict(dots), 'm--', linewidth=2)"
   ]
  },
  {
   "cell_type": "code",
   "execution_count": 23,
   "metadata": {},
   "outputs": [
    {
     "data": {
      "text/plain": [
       "(153501.46050728945, 76841.30434762465)"
      ]
     },
     "execution_count": 23,
     "metadata": {},
     "output_type": "execute_result"
    }
   ],
   "source": [
    "#Значение штрафной функции для нашей модели и для модели Sklearn\n",
    "model1.test(x_data, f_data), model2.test(x_data, f_data)"
   ]
  },
  {
   "cell_type": "code",
   "execution_count": 24,
   "metadata": {},
   "outputs": [
    {
     "data": {
      "text/plain": [
       "[<matplotlib.lines.Line2D at 0x7f90ca4550a0>]"
      ]
     },
     "execution_count": 24,
     "metadata": {},
     "output_type": "execute_result"
    },
    {
     "data": {
      "image/png": "[encoded data removed]",
      "text/plain": [
       "<Figure size 432x288 with 1 Axes>"
      ]
     },
     "metadata": {
      "needs_background": "light"
     },
     "output_type": "display_data"
    }
   ],
   "source": [
    "#Истиные коэффициенты используемые для генерации данных\n",
    "w_true=np.array([[- 13.2,  - 5.3,  - 4.17, 0, 0, 0]])\n",
    "w0_true=0.6\n",
    "\n",
    "#Коэффициенты из Sklearn\n",
    "w_sklearn=model2.coef_[np.newaxis, :]\n",
    "w0_sklearn=model2.intercept_\n",
    "\n",
    "x=polynomial_regression.generate_features(x_data, 6)\n",
    "y=f_data[:, np.newaxis]\n",
    "n_samples=len(f_data)\n",
    "\n",
    "x_dots=np.arange(-0.5, 1.55, 0.05)\n",
    "def _mserror(w, w0):\n",
    "    diff=x.dot(w.T)+w0-y\n",
    "    return np.sum(diff**2)/n_samples\n",
    "\n",
    "mserror_values=np.array([_mserror(w_true+(w_sklearn-w_true)*i, w0_true+(w0_sklearn-w0_true)*i) \n",
    "                         for i in x_dots])\n",
    "#Актуальные данные\n",
    "plt.ylabel('mserror')\n",
    "plt.xticks([0, 1], ['Истиные\\nвеса', 'Веса\\nSklearn'])\n",
    "plt.plot(x_dots, mserror_values)"
   ]
  },
  {
   "cell_type": "markdown",
   "metadata": {},
   "source": [
    "### Ремарка: как выполнить оптимизацию при помощи scipy"
   ]
  },
  {
   "cell_type": "code",
   "execution_count": 25,
   "metadata": {},
   "outputs": [],
   "source": [
    "from scipy.optimize import minimize\n",
    "class polynomial_regression_lbfgs(polynomial_regression):\n",
    "    def __init__(self, max_power):\n",
    "        self.max_power=max_power\n",
    "    def _optimize(self, X, Y):\n",
    "        def assign_w(w):\n",
    "            self.w0=w[0]\n",
    "            self.w=w[1:][np.newaxis, :]\n",
    "        def func(w):\n",
    "            assign_w(w)\n",
    "            return super(polynomial_regression, self).test(X, Y)\n",
    "        def jac(w):\n",
    "            assign_w(w)\n",
    "            gr_w, gr_w0=self._mserror_grad(X, Y)\n",
    "            return np.concatenate([[gr_w0], gr_w.flatten()])\n",
    "        w=np.zeros((X.shape[1]+1,))\n",
    "        w=minimize(func, w, jac=jac, method='BFGS').x\n",
    "        assign_w(w)\n",
    "        "
   ]
  },
  {
   "cell_type": "code",
   "execution_count": 26,
   "metadata": {},
   "outputs": [
    {
     "data": {
      "text/plain": [
       "76841.30434762462"
      ]
     },
     "execution_count": 26,
     "metadata": {},
     "output_type": "execute_result"
    }
   ],
   "source": [
    "model_bfgs=polynomial_regression_lbfgs(6)\n",
    "model_bfgs.fit(x_data, f_data)\n",
    "model_bfgs.test(x_data, f_data)"
   ]
  },
  {
   "cell_type": "code",
   "execution_count": 27,
   "metadata": {},
   "outputs": [
    {
     "data": {
      "text/plain": [
       "[<matplotlib.lines.Line2D at 0x7f90ca423c10>]"
      ]
     },
     "execution_count": 27,
     "metadata": {},
     "output_type": "execute_result"
    },
    {
     "data": {
      "image/png": "[encoded data removed]",
      "text/plain": [
       "<Figure size 432x288 with 1 Axes>"
      ]
     },
     "metadata": {
      "needs_background": "light"
     },
     "output_type": "display_data"
    }
   ],
   "source": [
    "#Актуальные данные\n",
    "plt.xlabel('x')\n",
    "plt.ylabel('f(x)')\n",
    "plt.ylim(-5000, 5000)\n",
    "plt.xlim(-10,10)\n",
    "plt.plot(dots, f(dots), color='g')\n",
    "plt.scatter(x_data, f_data)\n",
    "\n",
    "#Наша модель\n",
    "plt.plot(dots, model_bfgs.predict(dots), color='r')"
   ]
  },
  {
   "cell_type": "markdown",
   "metadata": {},
   "source": [
    "## Кросс-валидация"
   ]
  },
  {
   "cell_type": "code",
   "execution_count": 28,
   "metadata": {},
   "outputs": [
    {
     "name": "stdout",
     "output_type": "stream",
     "text": [
      "0.9658418390279783\n"
     ]
    }
   ],
   "source": [
    "#Посчитаем р-квадрат\n",
    "def r_square(y, y_real):\n",
    "    ss_total=np.sum((y_real-np.mean(y_real))**2)\n",
    "    ss_res=np.sum((y_real-y)**2)\n",
    "    return 1-ss_res/ss_total\n",
    "print(r_square(model2.predict(x_data), f_data))"
   ]
  },
  {
   "cell_type": "code",
   "execution_count": 30,
   "metadata": {},
   "outputs": [
    {
     "name": "stdout",
     "output_type": "stream",
     "text": [
      "-7794.627882964766\n"
     ]
    }
   ],
   "source": [
    "indexes=np.arange(len(f_data))%5\n",
    "y_actual=[]\n",
    "y_predicted=[]\n",
    "\n",
    "for i in range(5):\n",
    "    y_actual.append(f_data[indexes==i])\n",
    "    mod=polynomial_regression_sklearn(6)\n",
    "    mod.fit(x_data[indexes!=i], f_data[indexes!=i])\n",
    "    y_predicted.append(mod.predict(x_data[indexes==i]))\n",
    "    \n",
    "y_actual=np.concatenate(y_actual)\n",
    "y_predicted=np.concatenate(y_predicted)\n",
    "print(r_square(y_predicted, y_actual))"
   ]
  },
  {
   "cell_type": "code",
   "execution_count": 31,
   "metadata": {},
   "outputs": [
    {
     "data": {
      "text/plain": [
       "2249573.810796306"
      ]
     },
     "execution_count": 31,
     "metadata": {},
     "output_type": "execute_result"
    }
   ],
   "source": [
    "np.sum((y_actual-np.mean(y_actual))**2)/len(y_actual)"
   ]
  },
  {
   "cell_type": "markdown",
   "metadata": {},
   "source": [
    "<b>Домашнее задание</b>"
   ]
  },
  {
   "cell_type": "markdown",
   "metadata": {},
   "source": [
    "1.У вас, с прошлого урока, имеются реализации расчёта среднеквадратичной ошибки и её градиента для линейнй регрессии с коэффициентами при факторах(w) и свободным коэффициентам."
   ]
  },
  {
   "cell_type": "markdown",
   "metadata": {},
   "source": [
    "```python\n",
    "class linear_regression:\n",
    "    def _mserror(self, X, y_real):\n",
    "        #рассчёт среднеквадратичной ошибки\n",
    "        y = X.dot(self.w.T)+self.w0\n",
    "        return np.sum((y - y_real)**2) / y_real.shape[0]\n",
    "    def _mserror_grad(self, X, y_real):\n",
    "        #рассчёт градиента ошибки.\n",
    "        #2*delta.T.dot(X)/y_real.shape[0] - градиент по коэффициентам при факторах\n",
    "        #np.sum(2*delta)/y_real.shape[0] - производная(градиент) при нулевом коэффициенте\n",
    "        delta=(X.dot(self.w.T)+self.w0-y_real)\n",
    "        return 2*delta.T.dot(X)/y_real.shape[0], np.sum(2*delta)/y_real.shape[0]\n",
    "```"
   ]
  },
  {
   "cell_type": "markdown",
   "metadata": {},
   "source": [
    "В этом задании вы должны модифицировать реализацию рассчёта среднеквадратичной ошибки и рассчёта её производной, так, чтобы с к среднеквадратичной ошибке добавлялась l2 регулярязационная поправка: $ +c*\\sum \\limits _{j}  w_{j}^2 $ а к градиенту- ссответствующее выражение для градиента регулярязационной поправки."
   ]
  },
  {
   "cell_type": "markdown",
   "metadata": {},
   "source": [
    "2.На основе этих функций создайте свою регуляризированную полиномиальную регрессию и опробуйте на одном из примеров построения полиномиальной модели из этого урока. <br>\n",
    "<i><b>Пояснение:</b>Для этого Вам достаточно создать класс, который наследуется от класса polynomial_regression из данного урока, и переопределить в нём методы mserror, mserror_grad(под переопределением подразумевается создание на новом классе методов с таким же названием). </i>"
   ]
  },
  {
   "cell_type": "markdown",
   "metadata": {},
   "source": [
    "3*. (по желанию). Оцените оцените предсказательную способность реализованного метода с использование 5-ти ступенчатой кросс-валидации, показанной в примере выше. "
   ]
  },
  {
   "cell_type": "markdown",
   "metadata": {},
   "source": [
    "## Масштабируемость и стохастический градиент"
   ]
  },
  {
   "cell_type": "code",
   "execution_count": 32,
   "metadata": {},
   "outputs": [],
   "source": [
    "from sklearn import datasets\n",
    "import numpy as np\n",
    "data, target, coef = datasets.make_regression(n_samples=1000, n_features = 2, n_informative = 2, \n",
    "                                              n_targets = 1, \n",
    "                                              noise = 5, coef = True, random_state = 2)\n",
    "target=target[:, np.newaxis]"
   ]
  },
  {
   "cell_type": "code",
   "execution_count": 33,
   "metadata": {},
   "outputs": [],
   "source": [
    "# Получим средние значения и стандартное отклонение по столбцам\n",
    "\n",
    "means = np.mean(data, axis=0)\n",
    "stds = np.std(data, axis=0)\n",
    "# параметр axis указывается для вычисления значений по столбцам, а не по всему массиву\n",
    "#(см. документацию в разделе источников)\n",
    "\n",
    "# вычтем каждое значение признака из среднего и поделим на стандартное отклонение\n",
    "for i in range(data.shape[0]):\n",
    "    for j in range(data.shape[1]):\n",
    "        data[i][j] = (data[i][j] - means[j])/stds[j]"
   ]
  },
  {
   "cell_type": "code",
   "execution_count": 34,
   "metadata": {},
   "outputs": [],
   "source": [
    "# реализуем функцию, определяющую среднеквадратичную ошибку и стохастический градиент\n",
    "def mserror(X, w, y_real):\n",
    "    y = X.dot(w.T)\n",
    "    return np.sum((y - y_real)**2) / y_real.shape[0]\n",
    "\n",
    "def mserror_stohastic_grad(X, w, y_real):\n",
    "    i=np.random.randint(X.shape[0])\n",
    "    x=X[i:i+1, :]\n",
    "    #print(x.shape, w.shape)\n",
    "    return 2*(x.dot(w.T)-y_real[i:i+1, :]).T.dot(x)"
   ]
  },
  {
   "cell_type": "code",
   "execution_count": 35,
   "metadata": {},
   "outputs": [
    {
     "name": "stdout",
     "output_type": "stream",
     "text": [
      "8190.218510059733\n",
      "5485.398073030611\n",
      "3640.970376659881\n",
      "2460.2249506835715\n",
      "1668.1801719731363\n",
      "1141.0463730940132\n",
      "796.7483090830839\n",
      "529.9029877301622\n",
      "367.2479841105942\n",
      "266.4286096377452\n",
      "193.06536949767278\n",
      "145.41686246439448\n",
      "111.78845804775324\n",
      "88.27732260524701\n",
      "71.11785098210943\n",
      "60.49873933052388\n",
      "53.486801517846644\n",
      "48.856726461937484\n",
      "45.663315170237276\n",
      "43.199277577735415\n",
      "41.594494986044666\n",
      "40.57208731005971\n",
      "39.946714956499974\n",
      "39.61620547290568\n",
      "39.29135143628566\n",
      "39.04748266692181\n",
      "38.87388607242228\n",
      "38.727966940841796\n",
      "38.66245398542285\n",
      "38.648100193988874\n",
      "38.64671693405885\n",
      "38.6151330901579\n",
      "38.606142363247216\n",
      "38.59541259110847\n",
      "38.589037275085865\n",
      "38.59726492986365\n",
      "38.59223788869468\n",
      "38.60001726679379\n",
      "38.5835683908754\n",
      "38.5879232331735\n",
      "38.573626440223016\n",
      "38.57586268221657\n",
      "38.571163106672046\n",
      "38.571328754919946\n",
      "38.584444832119715\n",
      "38.583191337515956\n",
      "38.57070541901161\n",
      "38.57127581952632\n",
      "38.57175276021188\n",
      "38.57016460813438\n",
      "38.58569632650173\n",
      "38.591172852158316\n",
      "38.60928324052411\n",
      "38.59149994467424\n",
      "38.59672319291027\n",
      "38.57958771646013\n",
      "38.569751240956094\n",
      "38.56938141878088\n",
      "38.57039986786951\n",
      "38.57284394889316\n",
      "38.57628262820322\n",
      "38.56865838009393\n",
      "38.57062345251893\n",
      "38.56932338764846\n",
      "38.571281131248384\n",
      "38.58965877686929\n",
      "38.585512271414046\n",
      "38.58694147774332\n",
      "38.587021328617034\n",
      "38.58259466563732\n",
      "38.57558096821327\n",
      "38.5843076227243\n",
      "38.57158345601077\n",
      "38.57347482042301\n",
      "38.57349964267089\n",
      "38.57251860402389\n",
      "38.57531738629042\n",
      "38.57605840658014\n",
      "38.56937220902994\n",
      "38.56825913683533\n",
      "38.56993286126584\n",
      "38.569308432017934\n",
      "38.57285196242119\n",
      "38.574286838990616\n",
      "38.5750025037038\n",
      "38.57719916357456\n",
      "38.57532350192232\n",
      "38.5774173303492\n",
      "38.57664465161241\n",
      "38.57172761521395\n",
      "38.571496858381956\n",
      "38.5698877833697\n",
      "38.568259945973296\n",
      "38.569163583059854\n",
      "38.5693448774213\n",
      "38.570853152136934\n",
      "38.57039868040042\n",
      "38.572532608550404\n",
      "38.573527764322115\n",
      "38.57522469785111\n",
      "В случае использования стохастического градиентного спуска функционал ошибки составляет 38.5728\n"
     ]
    }
   ],
   "source": [
    "# инициализируем начальный вектор весов\n",
    "w = np.zeros((1, 2))\n",
    "\n",
    "# список векторов весов после каждой итерации\n",
    "w_list = [w.flatten()]\n",
    "\n",
    "# список значений ошибок после каждой итерации\n",
    "errors = []\n",
    "\n",
    "# шаг градиентного спуска\n",
    "eta = 0.0001\n",
    "\n",
    "# максимальное число итераций\n",
    "max_iter = 1e5\n",
    "\n",
    "# критерий сходимости (разница весов, при которой алгоритм останавливается)\n",
    "min_weight_dist = 1e-8\n",
    "\n",
    "# зададим начальную разницу весов большим числом\n",
    "weight_dist = np.inf\n",
    "\n",
    "# счетчик итераций\n",
    "iter_num = 0\n",
    "\n",
    "np.random.seed(1234)\n",
    "\n",
    "# ход градиентного спуска\n",
    "while weight_dist > min_weight_dist and iter_num < max_iter:\n",
    "    \n",
    "    # генерируем случайный индекс объекта выборки\n",
    "    \n",
    "    new_w = w -  eta * mserror_stohastic_grad(data, w, target)\n",
    "\n",
    "    weight_dist = np.linalg.norm(new_w - w, ord=2)\n",
    "    \n",
    "    w_list.append(new_w.flatten())\n",
    "    error=mserror(data, new_w, target)\n",
    "    errors.append(error)\n",
    "    if iter_num %1000==0:\n",
    "        print(error)\n",
    "    \n",
    "    iter_num += 1\n",
    "    w = new_w\n",
    "    \n",
    "w_list = np.array(w_list)\n",
    "\n",
    "print(f'В случае использования стохастического градиентного спуска функционал ошибки составляет {round(errors[-1], 4)}')"
   ]
  },
  {
   "cell_type": "code",
   "execution_count": 36,
   "metadata": {},
   "outputs": [
    {
     "data": {
      "image/png": "[encoded data removed]",
      "text/plain": [
       "<Figure size 936x432 with 1 Axes>"
      ]
     },
     "metadata": {
      "needs_background": "light"
     },
     "output_type": "display_data"
    }
   ],
   "source": [
    "# Визуализируем изменение весов (красной точкой обозначены истинные веса, сгенерированные вначале)\n",
    "plt.figure(figsize=(13, 6))\n",
    "plt.title('Stochastic gradient descent')\n",
    "plt.xlabel(r'$w_1$')\n",
    "plt.ylabel(r'$w_2$')\n",
    "\n",
    "plt.scatter(w_list[:, 0], w_list[:, 1])\n",
    "plt.scatter(coef[0], coef[1], c='r')\n",
    "plt.plot(w_list[:, 0], w_list[:, 1])\n",
    "\n",
    "plt.show()"
   ]
  },
  {
   "cell_type": "code",
   "execution_count": 37,
   "metadata": {},
   "outputs": [
    {
     "data": {
      "text/plain": [
       "Text(0, 0.5, 'MSE')"
      ]
     },
     "execution_count": 37,
     "metadata": {},
     "output_type": "execute_result"
    },
    {
     "data": {
      "image/png": "[encoded data removed]",
      "text/plain": [
       "<Figure size 432x288 with 1 Axes>"
      ]
     },
     "metadata": {
      "needs_background": "light"
     },
     "output_type": "display_data"
    }
   ],
   "source": [
    "# Визуализируем изменение функционала ошибки\n",
    "plt.plot(range(len(errors)), errors)\n",
    "plt.title('MSE')\n",
    "plt.xlabel('Iteration number')\n",
    "plt.ylabel('MSE')"
   ]
  },
  {
   "cell_type": "code",
   "execution_count": null,
   "metadata": {},
   "outputs": [],
   "source": []
  }
 ],
 "metadata": {
  "kernelspec": {
   "display_name": "Python 3",
   "language": "python",
   "name": "python3"
  },
  "language_info": {
   "codemirror_mode": {
    "name": "ipython",
    "version": 3
   },
   "file_extension": ".py",
   "mimetype": "text/x-python",
   "name": "python",
   "nbconvert_exporter": "python",
   "pygments_lexer": "ipython3",
   "version": "3.8.3"
  }
 },
 "nbformat": 4,
 "nbformat_minor": 4
}
